{
  "nbformat": 4,
  "nbformat_minor": 0,
  "metadata": {
    "colab": {
      "provenance": []
    },
    "kernelspec": {
      "name": "python3",
      "display_name": "Python 3"
    },
    "language_info": {
      "name": "python"
    }
  },
  "cells": [
    {
      "cell_type": "markdown",
      "source": [
        "# **while loop**"
      ],
      "metadata": {
        "id": "vs82_e97vpHs"
      }
    },
    {
      "cell_type": "code",
      "source": [
        "# print all positive integers up to 10\n",
        "\n",
        "x=0\n",
        "while x<=10:\n",
        "  print(x)\n",
        "  x+=1\n",
        "\n"
      ],
      "metadata": {
        "colab": {
          "base_uri": "https://localhost:8080/"
        },
        "id": "zkcyQ1IYvhno",
        "outputId": "a7fd6368-4ed5-4e23-f3f5-a35e6b9e9fe6"
      },
      "execution_count": null,
      "outputs": [
        {
          "output_type": "stream",
          "name": "stdout",
          "text": [
            "0\n",
            "1\n",
            "2\n",
            "3\n",
            "4\n",
            "5\n",
            "6\n",
            "7\n",
            "8\n",
            "9\n",
            "10\n"
          ]
        }
      ]
    },
    {
      "cell_type": "code",
      "source": [
        "# print all integers from 10 to 0\n",
        "\n",
        "x=10\n",
        "while x>=0:\n",
        "  print(x)\n",
        "  x-=1"
      ],
      "metadata": {
        "colab": {
          "base_uri": "https://localhost:8080/"
        },
        "id": "ljgxaSqnuhVC",
        "outputId": "5f25a29b-1fba-462f-d061-2015a3f7a5cc"
      },
      "execution_count": null,
      "outputs": [
        {
          "output_type": "stream",
          "name": "stdout",
          "text": [
            "10\n",
            "9\n",
            "8\n",
            "7\n",
            "6\n",
            "5\n",
            "4\n",
            "3\n",
            "2\n",
            "1\n",
            "0\n"
          ]
        }
      ]
    },
    {
      "cell_type": "code",
      "source": [
        "# print input validation only print 'bingo' when typed 'secret'\n",
        "\n",
        "password_on_record = 'secret'\n",
        "password_entered = input ('Please Enter Password')\n",
        "\n",
        "while password_entered != password_on_record:\n",
        "  password_entered = input('Wrong password! Please enter again: ')\n",
        "\n",
        "print('Bingo! Welcome!')"
      ],
      "metadata": {
        "colab": {
          "base_uri": "https://localhost:8080/"
        },
        "id": "Ij5_qiLquh2S",
        "outputId": "098471a8-2fda-4d85-9142-aa467b0f3b9d"
      },
      "execution_count": null,
      "outputs": [
        {
          "output_type": "stream",
          "name": "stdout",
          "text": [
            "Please Enter PasswordWrong\n",
            "Wrong password! Please enter again: hello\n",
            "Wrong password! Please enter again: world\n",
            "Wrong password! Please enter again: secret\n",
            "Bingo! Welcome!\n"
          ]
        }
      ]
    },
    {
      "cell_type": "code",
      "source": [
        "# flag - enter stop to exit a program\n",
        "\n",
        "flag =True\n",
        "while flag:\n",
        "  inputs = input('Please enter some words to display or type stop to exit: ')\n",
        "  if inputs == 'stop':\n",
        "    flag = False\n",
        "  print (inputs)\n"
      ],
      "metadata": {
        "colab": {
          "base_uri": "https://localhost:8080/"
        },
        "id": "5ncXS8oUu07g",
        "outputId": "253a20d3-67b0-4c25-e838-795d08d79dc8"
      },
      "execution_count": null,
      "outputs": [
        {
          "output_type": "stream",
          "name": "stdout",
          "text": [
            "Please enter some words to display or type stop to exit: Hello\n",
            "Hello\n",
            "Please enter some words to display or type stop to exit: Sulay\n",
            "Sulay\n",
            "Please enter some words to display or type stop to exit: stop\n",
            "stop\n"
          ]
        }
      ]
    },
    {
      "cell_type": "markdown",
      "source": [
        "# **for loop**\n",
        "\n",
        "```\n",
        "# This is formatted as code\n",
        "```\n",
        "\n"
      ],
      "metadata": {
        "id": "_2pdnMCWvVJQ"
      }
    },
    {
      "cell_type": "code",
      "source": [
        "# print a list of integers (1,2,3,5,7)\n",
        "for i in [1,2,3,5,7]:\n",
        "  print(i)\n",
        "\n",
        "\n",
        "\n"
      ],
      "metadata": {
        "colab": {
          "base_uri": "https://localhost:8080/"
        },
        "id": "4Mc4JQuGvF-D",
        "outputId": "440d48ea-2e60-479a-f006-3d1615be57f5"
      },
      "execution_count": null,
      "outputs": [
        {
          "output_type": "stream",
          "name": "stdout",
          "text": [
            "1\n",
            "2\n",
            "3\n",
            "5\n",
            "7\n"
          ]
        }
      ]
    },
    {
      "cell_type": "code",
      "source": [
        "# print a range of numbers\n",
        "\n",
        "for i in range (10):\n",
        "  print(i)\n",
        "\n"
      ],
      "metadata": {
        "colab": {
          "base_uri": "https://localhost:8080/"
        },
        "id": "jtsV7Ef5FX7h",
        "outputId": "dc82788a-bc64-4628-bb2f-a49a5248a642"
      },
      "execution_count": null,
      "outputs": [
        {
          "output_type": "stream",
          "name": "stdout",
          "text": [
            "0\n",
            "1\n",
            "2\n",
            "3\n",
            "4\n",
            "5\n",
            "6\n",
            "7\n",
            "8\n",
            "9\n"
          ]
        }
      ]
    },
    {
      "cell_type": "code",
      "source": [
        "# print a range of numbers\n",
        "\n",
        "for i in range (5,10):\n",
        "  print(i)"
      ],
      "metadata": {
        "colab": {
          "base_uri": "https://localhost:8080/"
        },
        "id": "n5GIC0AZGWfw",
        "outputId": "37e7ee88-22bf-4e58-b3be-28b2d73cbb74"
      },
      "execution_count": null,
      "outputs": [
        {
          "output_type": "stream",
          "name": "stdout",
          "text": [
            "5\n",
            "6\n",
            "7\n",
            "8\n",
            "9\n"
          ]
        }
      ]
    },
    {
      "cell_type": "code",
      "source": [
        "# print a range of numbers\n",
        "\n",
        "for i in range (5,10,3):\n",
        "  print(i)\n"
      ],
      "metadata": {
        "colab": {
          "base_uri": "https://localhost:8080/"
        },
        "id": "dVXs-7QBHr2f",
        "outputId": "96456e36-c645-44d7-c70d-14383003c32a"
      },
      "execution_count": null,
      "outputs": [
        {
          "output_type": "stream",
          "name": "stdout",
          "text": [
            "5\n",
            "8\n"
          ]
        }
      ]
    },
    {
      "cell_type": "code",
      "source": [
        "# print each char in a string\n",
        "for c in 'Hello, world!':\n",
        "  print(c)\n"
      ],
      "metadata": {
        "colab": {
          "base_uri": "https://localhost:8080/"
        },
        "id": "TjeXeq47FYxE",
        "outputId": "3256a5cc-298d-4996-a08a-11f470693e0e"
      },
      "execution_count": null,
      "outputs": [
        {
          "output_type": "stream",
          "name": "stdout",
          "text": [
            "H\n",
            "e\n",
            "l\n",
            "l\n",
            "o\n",
            ",\n",
            " \n",
            "w\n",
            "o\n",
            "r\n",
            "l\n",
            "d\n",
            "!\n"
          ]
        }
      ]
    },
    {
      "cell_type": "code",
      "source": [
        "# caculate sum of a list of numbers\n",
        "\n",
        "numbers = (1,2,3,5,7)\n",
        "sum = 0\n",
        "for n in numbers:\n",
        "  sum += n\n",
        "print(sum)"
      ],
      "metadata": {
        "colab": {
          "base_uri": "https://localhost:8080/"
        },
        "id": "ZMM4B-qPFa2h",
        "outputId": "4f78092d-ab9b-41b1-9c1c-ec56f20d0f7e"
      },
      "execution_count": null,
      "outputs": [
        {
          "output_type": "stream",
          "name": "stdout",
          "text": [
            "18\n"
          ]
        }
      ]
    },
    {
      "cell_type": "code",
      "source": [
        "# calculate sum of 0 to 100\n",
        "\n",
        "sum = 0\n",
        "for i in range (101):\n",
        "  sum += i\n",
        "print(sum)\n"
      ],
      "metadata": {
        "colab": {
          "base_uri": "https://localhost:8080/"
        },
        "id": "7SyJL1QgJ2gs",
        "outputId": "d65df2ea-65bf-4940-e00c-dd5f979607dd"
      },
      "execution_count": null,
      "outputs": [
        {
          "output_type": "stream",
          "name": "stdout",
          "text": [
            "5050\n"
          ]
        }
      ]
    },
    {
      "cell_type": "markdown",
      "source": [
        "# **break and continue**"
      ],
      "metadata": {
        "id": "QuQG7N_iJ3Yf"
      }
    },
    {
      "cell_type": "code",
      "source": [
        "# prompt: # when to enter stop to exit\n",
        "\n",
        "while True:\n",
        "  inputs = input('Please enter some words to display or type stop to exit: ')\n",
        "  if inputs == 'stop':\n",
        "    break\n",
        "  print (inputs)\n",
        "\n"
      ],
      "metadata": {
        "id": "FJE6KFS3KusQ",
        "colab": {
          "base_uri": "https://localhost:8080/"
        },
        "outputId": "2b42821f-c460-405d-a329-15fca2feac23"
      },
      "execution_count": 1,
      "outputs": [
        {
          "name": "stdout",
          "output_type": "stream",
          "text": [
            "Please enter some words to display or type stop to exit: Hello \n",
            "Hello \n",
            "Please enter some words to display or type stop to exit: World\n",
            "World\n",
            "Please enter some words to display or type stop to exit: I still Love Phython\n",
            "I still Love Phython\n",
            "Please enter some words to display or type stop to exit: stop\n"
          ]
        }
      ]
    },
    {
      "cell_type": "code",
      "source": [
        "# print all numbers whose square is less than 100\n",
        "\n",
        "x = 0\n",
        "while x**2 < 100:\n",
        "  print(x)\n",
        "  x += 1"
      ],
      "metadata": {
        "colab": {
          "base_uri": "https://localhost:8080/"
        },
        "id": "hWqhapC97Rmt",
        "outputId": "96755d5c-2c88-42c6-bf49-3aa892c20bcf"
      },
      "execution_count": 2,
      "outputs": [
        {
          "output_type": "stream",
          "name": "stdout",
          "text": [
            "0\n",
            "1\n",
            "2\n",
            "3\n",
            "4\n",
            "5\n",
            "6\n",
            "7\n",
            "8\n",
            "9\n"
          ]
        }
      ]
    },
    {
      "cell_type": "code",
      "source": [
        "# print all numbers whose square is less than 100\n",
        "x = 0\n",
        "while True\n"
      ],
      "metadata": {
        "colab": {
          "base_uri": "https://localhost:8080/"
        },
        "id": "LwdTTGnz_ocm",
        "outputId": "a435ee9f-6866-4d09-a773-e5eea2b5ce9e"
      },
      "execution_count": 4,
      "outputs": [
        {
          "output_type": "stream",
          "name": "stdout",
          "text": [
            "0\n",
            "1\n",
            "2\n",
            "3\n",
            "4\n",
            "5\n",
            "6\n",
            "7\n",
            "8\n",
            "9\n"
          ]
        }
      ]
    },
    {
      "cell_type": "code",
      "source": [
        "# print numbers dividable by 5 within 100\n",
        "for i in range(101):\n",
        "  if i % 5 == 0:\n",
        "    print(i)"
      ],
      "metadata": {
        "colab": {
          "base_uri": "https://localhost:8080/"
        },
        "id": "a4Wu7hEC7ST9",
        "outputId": "d4e33ad0-ad14-4cd3-99c0-5875614703cc"
      },
      "execution_count": 6,
      "outputs": [
        {
          "output_type": "stream",
          "name": "stdout",
          "text": [
            "0\n",
            "5\n",
            "10\n",
            "15\n",
            "20\n",
            "25\n",
            "30\n",
            "35\n",
            "40\n",
            "45\n",
            "50\n",
            "55\n",
            "60\n",
            "65\n",
            "70\n",
            "75\n",
            "80\n",
            "85\n",
            "90\n",
            "95\n",
            "100\n"
          ]
        }
      ]
    }
  ]
}